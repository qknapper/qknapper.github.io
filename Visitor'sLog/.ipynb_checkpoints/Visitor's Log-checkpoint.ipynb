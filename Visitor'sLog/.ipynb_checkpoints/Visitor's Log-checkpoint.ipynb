{
 "cells": [
  {
   "cell_type": "code",
   "execution_count": 1,
   "metadata": {},
   "outputs": [],
   "source": [
    "import numpy as np\n",
    "import pandas as pd\n",
    "import datetime as dt"
   ]
  },
  {
   "cell_type": "code",
   "execution_count": 2,
   "metadata": {},
   "outputs": [
    {
     "data": {
      "text/html": [
       "<div>\n",
       "<style scoped>\n",
       "    .dataframe tbody tr th:only-of-type {\n",
       "        vertical-align: middle;\n",
       "    }\n",
       "\n",
       "    .dataframe tbody tr th {\n",
       "        vertical-align: top;\n",
       "    }\n",
       "\n",
       "    .dataframe thead th {\n",
       "        text-align: right;\n",
       "    }\n",
       "</style>\n",
       "<table border=\"1\" class=\"dataframe\">\n",
       "  <thead>\n",
       "    <tr style=\"text-align: right;\">\n",
       "      <th></th>\n",
       "      <th>Timestamp</th>\n",
       "      <th>Visitor</th>\n",
       "      <th>Message</th>\n",
       "      <th>Mascot</th>\n",
       "    </tr>\n",
       "  </thead>\n",
       "  <tbody>\n",
       "    <tr>\n",
       "      <td>0</td>\n",
       "      <td>10/25/2021 20:37:41</td>\n",
       "      <td>Quinn Bear</td>\n",
       "      <td>I'm the creator of the website, and I hope you...</td>\n",
       "      <td>Quinn Bear</td>\n",
       "    </tr>\n",
       "    <tr>\n",
       "      <td>1</td>\n",
       "      <td>10/25/2021 21:38:28</td>\n",
       "      <td>Cooper Ulrich</td>\n",
       "      <td>Absolute God at Rocket League</td>\n",
       "      <td>Trogdor</td>\n",
       "    </tr>\n",
       "    <tr>\n",
       "      <td>2</td>\n",
       "      <td>10/26/2021 0:31:54</td>\n",
       "      <td>sneezy g</td>\n",
       "      <td>Qbear has an exhibition of cool card decks tha...</td>\n",
       "      <td>Perry the Platypus</td>\n",
       "    </tr>\n",
       "  </tbody>\n",
       "</table>\n",
       "</div>"
      ],
      "text/plain": [
       "             Timestamp        Visitor  \\\n",
       "0  10/25/2021 20:37:41     Quinn Bear   \n",
       "1  10/25/2021 21:38:28  Cooper Ulrich   \n",
       "2   10/26/2021 0:31:54       sneezy g   \n",
       "\n",
       "                                             Message              Mascot  \n",
       "0  I'm the creator of the website, and I hope you...          Quinn Bear  \n",
       "1                      Absolute God at Rocket League             Trogdor  \n",
       "2  Qbear has an exhibition of cool card decks tha...  Perry the Platypus  "
      ]
     },
     "execution_count": 2,
     "metadata": {},
     "output_type": "execute_result"
    }
   ],
   "source": [
    "visitorsLog = pd.read_csv(\"Visitor's Log.csv\")\n",
    "visitorsLog"
   ]
  },
  {
   "cell_type": "code",
   "execution_count": 3,
   "metadata": {},
   "outputs": [],
   "source": [
    "logEntryFormat = \"\\t\\t<div class=\\\"section\\\">\" + \"\\n\" + \\\n",
    "\"\\t\\t\\t<p class=\\\"subheader\\\">\" + \"\\n\" + \\\n",
    "\"\\t\\t\\t\\t{date} - {visitor} &nbsp <img class=\\\"mascot\\\" src=\\\"Visitor\\'sLog/{mascot}.png\\\">\" + \"\\n\" + \\\n",
    "\"\\t\\t\\t</p>\" + \"\\n\" + \\\n",
    "\"\\t\\t\\t<p class=\\\"body\\\">\" + \"\\n\" + \\\n",
    "\"\\t\\t\\t\\t{message}\" + \"\\n\" + \\\n",
    "\"\\t\\t\\t</p>\" + \"\\n\" + \\\n",
    "\"\\t\\t</div>\""
   ]
  },
  {
   "cell_type": "code",
   "execution_count": 4,
   "metadata": {},
   "outputs": [],
   "source": [
    "htmlSections = []\n",
    "\n",
    "for index, entry in visitorsLog.iterrows():\n",
    "    visitor = entry['Visitor']\n",
    "    mascot = entry['Mascot']\n",
    "    message = entry['Message']\n",
    "    \n",
    "    raw_date = entry['Timestamp']\n",
    "    date = dt.datetime.strptime(raw_date, \"%m/%d/%Y %H:%M:%S\")\n",
    "    format_date = date.strftime(\"%m/%d/%Y\")\n",
    "        \n",
    "    entryFill = logEntryFormat.format(date=format_date, visitor=visitor, mascot=mascot, message=message)\n",
    "    \n",
    "    htmlSections.append(entryFill)"
   ]
  },
  {
   "cell_type": "code",
   "execution_count": 5,
   "metadata": {},
   "outputs": [],
   "source": [
    "htmlOutput = \"<!-- End Auto Generated -->\\n\\n\"\n",
    "\n",
    "for section in htmlSections:\n",
    "    htmlOutput = section + \"\\n\\n\" + htmlOutput\n",
    "    \n",
    "htmlOutput = \"<!-- Auto Generated -->\" + \"\\n\\n\" + htmlOutput"
   ]
  },
  {
   "cell_type": "code",
   "execution_count": 6,
   "metadata": {},
   "outputs": [
    {
     "name": "stdout",
     "output_type": "stream",
     "text": [
      "<!-- Auto Generated -->\n",
      "\n",
      "\t\t<div class=\"section\">\n",
      "\t\t\t<p class=\"subheader\">\n",
      "\t\t\t\t10/26/2021 - sneezy g &nbsp <img class=\"mascot\" src=\"Visitor'sLog/Perry the Platypus.png\">\n",
      "\t\t\t</p>\n",
      "\t\t\t<p class=\"body\">\n",
      "\t\t\t\tQbear has an exhibition of cool card decks that are worth checking out, if they're still viewable when you swing by. GLHF. :)\n",
      "\t\t\t</p>\n",
      "\t\t</div>\n",
      "\n",
      "\t\t<div class=\"section\">\n",
      "\t\t\t<p class=\"subheader\">\n",
      "\t\t\t\t10/25/2021 - Cooper Ulrich &nbsp <img class=\"mascot\" src=\"Visitor'sLog/Trogdor.png\">\n",
      "\t\t\t</p>\n",
      "\t\t\t<p class=\"body\">\n",
      "\t\t\t\tAbsolute God at Rocket League\n",
      "\t\t\t</p>\n",
      "\t\t</div>\n",
      "\n",
      "\t\t<div class=\"section\">\n",
      "\t\t\t<p class=\"subheader\">\n",
      "\t\t\t\t10/25/2021 - Quinn Bear &nbsp <img class=\"mascot\" src=\"Visitor'sLog/Quinn Bear.png\">\n",
      "\t\t\t</p>\n",
      "\t\t\t<p class=\"body\">\n",
      "\t\t\t\tI'm the creator of the website, and I hope you had a fun time looking around. Thanks for stopping by everyone!\n",
      "\t\t\t</p>\n",
      "\t\t</div>\n",
      "\n",
      "<!-- End Auto Generated -->\n",
      "\n",
      "\n"
     ]
    }
   ],
   "source": [
    "print(htmlOutput)"
   ]
  },
  {
   "cell_type": "code",
   "execution_count": null,
   "metadata": {},
   "outputs": [],
   "source": []
  }
 ],
 "metadata": {
  "kernelspec": {
   "display_name": "Python 3",
   "language": "python",
   "name": "python3"
  },
  "language_info": {
   "codemirror_mode": {
    "name": "ipython",
    "version": 3
   },
   "file_extension": ".py",
   "mimetype": "text/x-python",
   "name": "python",
   "nbconvert_exporter": "python",
   "pygments_lexer": "ipython3",
   "version": "3.7.4"
  }
 },
 "nbformat": 4,
 "nbformat_minor": 2
}
